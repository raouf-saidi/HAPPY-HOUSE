{
  "nbformat": 4,
  "nbformat_minor": 0,
  "metadata": {
    "colab": {
      "provenance": [],
      "collapsed_sections": []
    },
    "kernelspec": {
      "name": "python3",
      "display_name": "Python 3"
    }
  },
  "cells": [
    {
      "cell_type": "markdown",
      "metadata": {
        "id": "2th5H5b1hbcS"
      },
      "source": [
        "# If you happy and I know it you can enter my House \n",
        "\n",
        "You'll see how you can in a couple of hours build a deep learning algorithm."
      ]
    },
    {
      "cell_type": "code",
      "metadata": {
        "id": "MuU-RPhvflcW"
      },
      "source": [
        "import numpy as np\n",
        "from sklearn.metrics import confusion_matrix\n",
        "import seaborn as sns\n",
        "import h5py\n",
        "from keras import layers\n",
        "from keras.layers import Input, Dense, Activation, ZeroPadding2D, BatchNormalization, Flatten, Conv2D\n",
        "from keras.layers import AveragePooling2D, MaxPooling2D, Dropout, GlobalMaxPooling2D, GlobalAveragePooling2D\n",
        "from keras.models import Model\n",
        "from keras.preprocessing import image\n",
        "from keras.utils import layer_utils\n",
        "from keras.utils.data_utils import get_file\n",
        "from keras.applications.imagenet_utils import preprocess_input\n",
        "from keras.models import Sequential\n",
        "\n",
        "import pydot\n",
        "from IPython.display import SVG\n",
        "\n",
        "\n",
        "import keras.backend as K\n",
        "K.set_image_data_format('channels_last')\n",
        "import matplotlib.pyplot as plt\n",
        "from matplotlib.pyplot import imshow\n"
      ],
      "execution_count": 1,
      "outputs": []
    },
    {
      "cell_type": "code",
      "metadata": {
        "id": "4Z7gBX7YfTRL"
      },
      "source": [
        "def load_dataset(path_to_train, path_to_test):\n",
        "    train_dataset = h5py.File(path_to_train)\n",
        "    train_x = np.array(train_dataset['train_set_x'][:])\n",
        "    train_y = np.array(train_dataset['train_set_y'][:])\n",
        "\n",
        "    test_dataset = h5py.File(path_to_test)\n",
        "    test_x = np.array(test_dataset['test_set_x'][:])\n",
        "    test_y = np.array(test_dataset['test_set_y'][:])\n",
        "\n",
        "    # y reshaped\n",
        "    train_y = train_y.reshape((1, train_x.shape[0]))\n",
        "    test_y = test_y.reshape((1, test_y.shape[0]))\n",
        "    \n",
        "\n",
        "    return train_x, train_y, test_x, test_y"
      ],
      "execution_count": 2,
      "outputs": []
    },
    {
      "cell_type": "markdown",
      "metadata": {
        "id": "s0shUMnCg9GK"
      },
      "source": [
        "This dataset can be used to solve the Happy House problem.\n",
        "Where, we allow a person to enter the house only if he/she is smiling!\n",
        "So, a smile detector!\n"
      ]
    },
    {
      "cell_type": "markdown",
      "metadata": {
        "id": "LF7js4UdhO0F"
      },
      "source": [
        "![Texte alternatif…](https://raw.githubusercontent.com/Kulbear/deep-learning-coursera/master/Convolutional%20Neural%20Networks/images/house-members.png)"
      ]
    },
    {
      "cell_type": "markdown",
      "metadata": {
        "id": "roksQQtvizn4"
      },
      "source": [
        "\n",
        "\n",
        "Details of the \"Happy\" dataset:\n",
        "\n",
        "* Images are of shape (64,64,3)\n",
        "* Training: 600 pictures\n",
        "* Test: 150 pictures\n"
      ]
    },
    {
      "cell_type": "markdown",
      "metadata": {
        "id": "z9hCBeyJi--_"
      },
      "source": [
        "# Load Dataset"
      ]
    },
    {
      "cell_type": "code",
      "metadata": {
        "id": "nOZo0cNbg8ts",
        "outputId": "828e80c4-af60-406d-b8f9-815a8ea5aa37",
        "colab": {
          "base_uri": "https://localhost:8080/"
        }
      },
      "source": [
        "X_train_orig, Y_train_orig, X_test_orig, Y_test_orig = load_dataset(\"train_happy.h5\",\"test_happy.h5\")\n",
        "\n",
        "# Normalize image vectors\n",
        "X_train = X_train_orig/255.\n",
        "X_test = X_test_orig/255\n",
        "\n",
        "# Reshape\n",
        "Y_train = Y_train_orig.T\n",
        "Y_test = Y_test_orig.T\n",
        "\n",
        "print (\"number of training examples = \" + str(X_train.shape[0]))\n",
        "print (\"number of test examples = \" + str(X_test.shape[0]))\n",
        "print (\"X_train shape: \" + str(X_train.shape))\n",
        "print (\"Y_train shape: \" + str(Y_train.shape))\n",
        "print (\"X_test shape: \" + str(X_test.shape))\n",
        "print (\"Y_test shape: \" + str(Y_test.shape))"
      ],
      "execution_count": 3,
      "outputs": [
        {
          "output_type": "stream",
          "name": "stdout",
          "text": [
            "number of training examples = 600\n",
            "number of test examples = 150\n",
            "X_train shape: (600, 64, 64, 3)\n",
            "Y_train shape: (600, 1)\n",
            "X_test shape: (150, 64, 64, 3)\n",
            "Y_test shape: (150, 1)\n"
          ]
        }
      ]
    },
    {
      "cell_type": "code",
      "metadata": {
        "id": "RALj5hk4gMXB",
        "outputId": "66f18159-c2df-4104-e5de-1aa3cfe24fec",
        "colab": {
          "base_uri": "https://localhost:8080/",
          "height": 303
        }
      },
      "source": [
        "# Sample image from dataset\n",
        "print(\"Image shape :\",X_train_orig[10].shape)\n",
        "imshow(X_train_orig[10])"
      ],
      "execution_count": 4,
      "outputs": [
        {
          "output_type": "stream",
          "name": "stdout",
          "text": [
            "Image shape : (64, 64, 3)\n"
          ]
        },
        {
          "output_type": "execute_result",
          "data": {
            "text/plain": [
              "<matplotlib.image.AxesImage at 0x7f08776ba1d0>"
            ]
          },
          "metadata": {},
          "execution_count": 4
        },
        {
          "output_type": "display_data",
          "data": {
            "text/plain": [
              "<Figure size 432x288 with 1 Axes>"
            ],
            "image/png": "[encoded data removed]"
          },
          "metadata": {
            "needs_background": "light"
          }
        }
      ]
    },
    {
      "cell_type": "markdown",
      "metadata": {
        "id": "vQNZh4XxjCiB"
      },
      "source": [
        "# Building Model"
      ]
    },
    {
      "cell_type": "markdown",
      "metadata": {
        "id": "IJJpc1lppa_m"
      },
      "source": [
        "_________________________________________________________________\n",
        "\n",
        "conv2d_3 (Conv2D)            (None, 64, 64, 32)        4736      \n",
        "_________________________________________________________________\n",
        "batch_normalization_2 (Batch (None, 64, 64, 32)        128       \n",
        "_________________________________________________________________\n",
        "max_pooling2d_2 (MaxPooling2 (None, 32, 32, 32)        0         \n",
        "_________________________________________________________________\n",
        "flatten_2 (Flatten)          (None, 32768)             0         \n",
        "_________________________________________________________________\n",
        "dense_2 (Dense)              (None, 1)                 32769     \n",
        "_________________________________________________________________\n",
        "\n"
      ]
    },
    {
      "cell_type": "code",
      "metadata": {
        "id": "j1YT0k2rkvAM",
        "colab": {
          "base_uri": "https://localhost:8080/"
        },
        "outputId": "f9da9e8d-02c9-403e-fad0-156ae0a986a5"
      },
      "source": [
        "model = Sequential()\n",
        "model.add(Conv2D(filters=64, kernel_size=(3,3), activation='relu', padding='same',input_shape=(64, 64, 3)))\n",
        "model.add(MaxPooling2D(pool_size=(2,2)))\n",
        "\n",
        "model.add(Conv2D(filters=64, kernel_size=(3,3), activation='relu', padding='same'))\n",
        "model.add(MaxPooling2D(pool_size=(2,2)))\n",
        "\n",
        "\n",
        "model.add(Flatten())\n",
        "\n",
        "\n",
        "model.add(Dense(units = 64, activation='relu'))\n",
        "model.add(Dropout(0.2))\n",
        "model.add(Dense(units = 64, activation='relu'))\n",
        "model.add(Dropout(0.2))\n",
        "\n",
        "model.add(Dense(units = 1, activation = 'sigmoid'))\n",
        "\n",
        "model.summary()\n"
      ],
      "execution_count": 7,
      "outputs": [
        {
          "output_type": "stream",
          "name": "stdout",
          "text": [
            "Model: \"sequential\"\n",
            "_________________________________________________________________\n",
            " Layer (type)                Output Shape              Param #   \n",
            "=================================================================\n",
            " conv2d (Conv2D)             (None, 64, 64, 64)        1792      \n",
            "                                                                 \n",
            " max_pooling2d (MaxPooling2D  (None, 32, 32, 64)       0         \n",
            " )                                                               \n",
            "                                                                 \n",
            " conv2d_1 (Conv2D)           (None, 32, 32, 64)        36928     \n",
            "                                                                 \n",
            " max_pooling2d_1 (MaxPooling  (None, 16, 16, 64)       0         \n",
            " 2D)                                                             \n",
            "                                                                 \n",
            " flatten (Flatten)           (None, 16384)             0         \n",
            "                                                                 \n",
            " dense (Dense)               (None, 64)                1048640   \n",
            "                                                                 \n",
            " dropout (Dropout)           (None, 64)                0         \n",
            "                                                                 \n",
            " dense_1 (Dense)             (None, 64)                4160      \n",
            "                                                                 \n",
            " dropout_1 (Dropout)         (None, 64)                0         \n",
            "                                                                 \n",
            " dense_2 (Dense)             (None, 1)                 65        \n",
            "                                                                 \n",
            "=================================================================\n",
            "Total params: 1,091,585\n",
            "Trainable params: 1,091,585\n",
            "Non-trainable params: 0\n",
            "_________________________________________________________________\n"
          ]
        }
      ]
    },
    {
      "cell_type": "code",
      "metadata": {
        "id": "3CtQ3d7pmdEU"
      },
      "source": [
        "model.compile(optimizer='Adam', loss='binary_crossentropy', metrics=[\"accuracy\"])"
      ],
      "execution_count": 9,
      "outputs": []
    },
    {
      "cell_type": "code",
      "metadata": {
        "id": "JJzOsVQnmsz0",
        "outputId": "2807355d-81d4-4882-978e-b17b12c9c875",
        "colab": {
          "base_uri": "https://localhost:8080/"
        }
      },
      "source": [
        "history_model = model.fit(X_train,\n",
        "                    Y_train,\n",
        "                    batch_size=10,\n",
        "                    epochs=50,\n",
        "                    verbose=1,\n",
        "                    validation_split=0.2)"
      ],
      "execution_count": 12,
      "outputs": [
        {
          "output_type": "stream",
          "name": "stdout",
          "text": [
            "Epoch 1/50\n",
            "48/48 [==============================] - 6s 112ms/step - loss: 0.4048 - accuracy: 0.8083 - val_loss: 0.2233 - val_accuracy: 0.9333\n",
            "Epoch 2/50\n",
            "48/48 [==============================] - 5s 111ms/step - loss: 0.3166 - accuracy: 0.8708 - val_loss: 0.2091 - val_accuracy: 0.9583\n",
            "Epoch 3/50\n",
            "48/48 [==============================] - 5s 111ms/step - loss: 0.2235 - accuracy: 0.8979 - val_loss: 0.1403 - val_accuracy: 0.9833\n",
            "Epoch 4/50\n",
            "48/48 [==============================] - 5s 111ms/step - loss: 0.1874 - accuracy: 0.9271 - val_loss: 0.2122 - val_accuracy: 0.9250\n",
            "Epoch 5/50\n",
            "48/48 [==============================] - 5s 110ms/step - loss: 0.1699 - accuracy: 0.9271 - val_loss: 0.1318 - val_accuracy: 0.9833\n",
            "Epoch 6/50\n",
            "48/48 [==============================] - 5s 111ms/step - loss: 0.1562 - accuracy: 0.9458 - val_loss: 0.0896 - val_accuracy: 0.9750\n",
            "Epoch 7/50\n",
            "48/48 [==============================] - 7s 152ms/step - loss: 0.1276 - accuracy: 0.9542 - val_loss: 0.0642 - val_accuracy: 0.9750\n",
            "Epoch 8/50\n",
            "48/48 [==============================] - 9s 187ms/step - loss: 0.1149 - accuracy: 0.9604 - val_loss: 0.1221 - val_accuracy: 0.9583\n",
            "Epoch 9/50\n",
            "48/48 [==============================] - 6s 128ms/step - loss: 0.1146 - accuracy: 0.9604 - val_loss: 0.0531 - val_accuracy: 0.9917\n",
            "Epoch 10/50\n",
            "48/48 [==============================] - 5s 111ms/step - loss: 0.0987 - accuracy: 0.9667 - val_loss: 0.0684 - val_accuracy: 0.9667\n",
            "Epoch 11/50\n",
            "48/48 [==============================] - 5s 111ms/step - loss: 0.1298 - accuracy: 0.9521 - val_loss: 0.1163 - val_accuracy: 0.9500\n",
            "Epoch 12/50\n",
            "48/48 [==============================] - 5s 110ms/step - loss: 0.0789 - accuracy: 0.9771 - val_loss: 0.0615 - val_accuracy: 0.9750\n",
            "Epoch 13/50\n",
            "48/48 [==============================] - 5s 111ms/step - loss: 0.0834 - accuracy: 0.9646 - val_loss: 0.1032 - val_accuracy: 0.9583\n",
            "Epoch 14/50\n",
            "48/48 [==============================] - 5s 109ms/step - loss: 0.0920 - accuracy: 0.9667 - val_loss: 0.0648 - val_accuracy: 0.9750\n",
            "Epoch 15/50\n",
            "48/48 [==============================] - 5s 111ms/step - loss: 0.0715 - accuracy: 0.9750 - val_loss: 0.1277 - val_accuracy: 0.9417\n",
            "Epoch 16/50\n",
            "48/48 [==============================] - 5s 111ms/step - loss: 0.0596 - accuracy: 0.9792 - val_loss: 0.1082 - val_accuracy: 0.9750\n",
            "Epoch 17/50\n",
            "48/48 [==============================] - 5s 110ms/step - loss: 0.0735 - accuracy: 0.9750 - val_loss: 0.0526 - val_accuracy: 0.9833\n",
            "Epoch 18/50\n",
            "48/48 [==============================] - 5s 111ms/step - loss: 0.0480 - accuracy: 0.9792 - val_loss: 0.0500 - val_accuracy: 0.9750\n",
            "Epoch 19/50\n",
            "48/48 [==============================] - 5s 111ms/step - loss: 0.0524 - accuracy: 0.9812 - val_loss: 0.0621 - val_accuracy: 0.9583\n",
            "Epoch 20/50\n",
            "48/48 [==============================] - 5s 111ms/step - loss: 0.0528 - accuracy: 0.9750 - val_loss: 0.0664 - val_accuracy: 0.9750\n",
            "Epoch 21/50\n",
            "48/48 [==============================] - 5s 110ms/step - loss: 0.0286 - accuracy: 0.9937 - val_loss: 0.0805 - val_accuracy: 0.9500\n",
            "Epoch 22/50\n",
            "48/48 [==============================] - 5s 111ms/step - loss: 0.0368 - accuracy: 0.9812 - val_loss: 0.0774 - val_accuracy: 0.9833\n",
            "Epoch 23/50\n",
            "48/48 [==============================] - 5s 111ms/step - loss: 0.0405 - accuracy: 0.9854 - val_loss: 0.0763 - val_accuracy: 0.9583\n",
            "Epoch 24/50\n",
            "48/48 [==============================] - 6s 136ms/step - loss: 0.0316 - accuracy: 0.9875 - val_loss: 0.0579 - val_accuracy: 0.9917\n",
            "Epoch 25/50\n",
            "48/48 [==============================] - 5s 111ms/step - loss: 0.0315 - accuracy: 0.9896 - val_loss: 0.0756 - val_accuracy: 0.9667\n",
            "Epoch 26/50\n",
            "48/48 [==============================] - 6s 121ms/step - loss: 0.0217 - accuracy: 0.9958 - val_loss: 0.0446 - val_accuracy: 0.9750\n",
            "Epoch 27/50\n",
            "48/48 [==============================] - 5s 111ms/step - loss: 0.0380 - accuracy: 0.9896 - val_loss: 0.0501 - val_accuracy: 0.9833\n",
            "Epoch 28/50\n",
            "48/48 [==============================] - 5s 110ms/step - loss: 0.0267 - accuracy: 0.9917 - val_loss: 0.0932 - val_accuracy: 0.9667\n",
            "Epoch 29/50\n",
            "48/48 [==============================] - 5s 111ms/step - loss: 0.0190 - accuracy: 0.9937 - val_loss: 0.0510 - val_accuracy: 0.9833\n",
            "Epoch 30/50\n",
            "48/48 [==============================] - 5s 110ms/step - loss: 0.0273 - accuracy: 0.9896 - val_loss: 0.0532 - val_accuracy: 0.9750\n",
            "Epoch 31/50\n",
            "48/48 [==============================] - 5s 111ms/step - loss: 0.0211 - accuracy: 0.9937 - val_loss: 0.0801 - val_accuracy: 0.9667\n",
            "Epoch 32/50\n",
            "48/48 [==============================] - 6s 134ms/step - loss: 0.0161 - accuracy: 0.9979 - val_loss: 0.0583 - val_accuracy: 0.9917\n",
            "Epoch 33/50\n",
            "48/48 [==============================] - 5s 112ms/step - loss: 0.0573 - accuracy: 0.9854 - val_loss: 0.1732 - val_accuracy: 0.9333\n",
            "Epoch 34/50\n",
            "48/48 [==============================] - 5s 110ms/step - loss: 0.1243 - accuracy: 0.9521 - val_loss: 0.0692 - val_accuracy: 0.9667\n",
            "Epoch 35/50\n",
            "48/48 [==============================] - 5s 110ms/step - loss: 0.0525 - accuracy: 0.9854 - val_loss: 0.0682 - val_accuracy: 0.9667\n",
            "Epoch 36/50\n",
            "48/48 [==============================] - 5s 111ms/step - loss: 0.0262 - accuracy: 0.9917 - val_loss: 0.0217 - val_accuracy: 0.9917\n",
            "Epoch 37/50\n",
            "48/48 [==============================] - 5s 111ms/step - loss: 0.0391 - accuracy: 0.9896 - val_loss: 0.0512 - val_accuracy: 0.9833\n",
            "Epoch 38/50\n",
            "48/48 [==============================] - 5s 112ms/step - loss: 0.0215 - accuracy: 0.9937 - val_loss: 0.0251 - val_accuracy: 0.9917\n",
            "Epoch 39/50\n",
            "48/48 [==============================] - 5s 111ms/step - loss: 0.0156 - accuracy: 0.9937 - val_loss: 0.0842 - val_accuracy: 0.9833\n",
            "Epoch 40/50\n",
            "48/48 [==============================] - 5s 111ms/step - loss: 0.0161 - accuracy: 0.9937 - val_loss: 0.0397 - val_accuracy: 0.9917\n",
            "Epoch 41/50\n",
            "48/48 [==============================] - 5s 111ms/step - loss: 0.0160 - accuracy: 0.9937 - val_loss: 0.0317 - val_accuracy: 0.9917\n",
            "Epoch 42/50\n",
            "48/48 [==============================] - 6s 131ms/step - loss: 0.0160 - accuracy: 0.9937 - val_loss: 0.0293 - val_accuracy: 1.0000\n",
            "Epoch 43/50\n",
            "48/48 [==============================] - 5s 110ms/step - loss: 0.0135 - accuracy: 0.9937 - val_loss: 0.0215 - val_accuracy: 0.9917\n",
            "Epoch 44/50\n",
            "48/48 [==============================] - 6s 130ms/step - loss: 0.0098 - accuracy: 0.9979 - val_loss: 0.0441 - val_accuracy: 0.9833\n",
            "Epoch 45/50\n",
            "48/48 [==============================] - 6s 118ms/step - loss: 0.0070 - accuracy: 0.9979 - val_loss: 0.0464 - val_accuracy: 0.9833\n",
            "Epoch 46/50\n",
            "48/48 [==============================] - 5s 111ms/step - loss: 0.0075 - accuracy: 0.9979 - val_loss: 0.0262 - val_accuracy: 0.9917\n",
            "Epoch 47/50\n",
            "48/48 [==============================] - 5s 111ms/step - loss: 0.0117 - accuracy: 0.9937 - val_loss: 0.0345 - val_accuracy: 0.9917\n",
            "Epoch 48/50\n",
            "48/48 [==============================] - 5s 111ms/step - loss: 0.0308 - accuracy: 0.9875 - val_loss: 0.0684 - val_accuracy: 0.9833\n",
            "Epoch 49/50\n",
            "48/48 [==============================] - 5s 111ms/step - loss: 0.0460 - accuracy: 0.9833 - val_loss: 0.0431 - val_accuracy: 0.9917\n",
            "Epoch 50/50\n",
            "48/48 [==============================] - 5s 111ms/step - loss: 0.0186 - accuracy: 0.9937 - val_loss: 0.0935 - val_accuracy: 0.9750\n"
          ]
        }
      ]
    },
    {
      "cell_type": "markdown",
      "metadata": {
        "id": "MZFI90ydpx0n"
      },
      "source": [
        "# Evaluate / Test"
      ]
    },
    {
      "cell_type": "code",
      "metadata": {
        "id": "xV8Jav30myg0",
        "outputId": "26f891d8-9cac-4c95-dcf9-e7882c520fee",
        "colab": {
          "base_uri": "https://localhost:8080/",
          "height": 298
        }
      },
      "source": [
        "train_accuracy = history_model.history['val_accuracy']\n",
        "train_loss = history_model.history['val_loss']\n",
        "\n",
        "count = range(len(train_accuracy))\n",
        "plt.plot(count, train_accuracy, label='Training accuracy')\n",
        "plt.plot(count, train_loss, label='Training Loss')\n",
        "plt.title('epochs vs Training Loss')\n",
        "plt.legend()"
      ],
      "execution_count": 13,
      "outputs": [
        {
          "output_type": "execute_result",
          "data": {
            "text/plain": [
              "<matplotlib.legend.Legend at 0x7f086f409510>"
            ]
          },
          "metadata": {},
          "execution_count": 13
        },
        {
          "output_type": "display_data",
          "data": {
            "text/plain": [
              "<Figure size 432x288 with 1 Axes>"
            ],
            "image/png": "[encoded data removed]"
          },
          "metadata": {
            "needs_background": "light"
          }
        }
      ]
    },
    {
      "cell_type": "markdown",
      "metadata": {
        "id": "gBOEETB6qD3L"
      },
      "source": [
        "Evaluate Test set"
      ]
    },
    {
      "cell_type": "code",
      "metadata": {
        "id": "VNuzxr58m6bI",
        "colab": {
          "base_uri": "https://localhost:8080/"
        },
        "outputId": "67375fd4-e899-4287-a66f-2a9a4171fe3f"
      },
      "source": [
        "# Code Here\n",
        "score = model.evaluate(X_test, Y_test)\n",
        "score"
      ],
      "execution_count": 15,
      "outputs": [
        {
          "output_type": "stream",
          "name": "stdout",
          "text": [
            "5/5 [==============================] - 1s 184ms/step - loss: 0.2209 - accuracy: 0.9600\n"
          ]
        },
        {
          "output_type": "execute_result",
          "data": {
            "text/plain": [
              "[0.2208845019340515, 0.9599999785423279]"
            ]
          },
          "metadata": {},
          "execution_count": 15
        }
      ]
    },
    {
      "cell_type": "markdown",
      "metadata": {
        "id": "hFC1nz5_p33b"
      },
      "source": [
        "Confusion Matrix"
      ]
    },
    {
      "cell_type": "code",
      "metadata": {
        "id": "iflIgFgnnIfv"
      },
      "source": [
        "# Code Here"
      ],
      "execution_count": null,
      "outputs": []
    },
    {
      "cell_type": "markdown",
      "metadata": {
        "id": "QQKL1aDLqjqU"
      },
      "source": [
        "# Note\n",
        "\n",
        "Before you submit your work \n",
        "\n",
        "* You should compare different optimizers\n",
        "\n",
        "---\n",
        "\n",
        "* Display images with Predicted & expected labels (Happy-sad)\n"
      ]
    },
    {
      "cell_type": "code",
      "metadata": {
        "id": "EW_BaM-9p69t"
      },
      "source": [],
      "execution_count": null,
      "outputs": []
    }
  ]
}